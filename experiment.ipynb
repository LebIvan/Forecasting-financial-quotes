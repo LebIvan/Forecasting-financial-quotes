{
 "cells": [
  {
   "cell_type": "markdown",
   "metadata": {},
   "source": [
    "# Загружаем необходимые библиотеки"
   ]
  },
  {
   "cell_type": "code",
   "execution_count": 1,
   "metadata": {},
   "outputs": [],
   "source": [
    "import numpy as np\n",
    "import pandas as pd\n",
    "import simfin as sf"
   ]
  },
  {
   "cell_type": "code",
   "execution_count": 2,
   "metadata": {
    "scrolled": true
   },
   "outputs": [],
   "source": [
    "import torch\n",
    "import torch.nn as nn\n",
    "from torch.autograd import Variable "
   ]
  },
  {
   "cell_type": "code",
   "execution_count": 3,
   "metadata": {},
   "outputs": [],
   "source": [
    "import matplotlib as mpl\n",
    "import matplotlib.pyplot as plt\n",
    "import datetime"
   ]
  },
  {
   "cell_type": "code",
   "execution_count": 4,
   "metadata": {},
   "outputs": [],
   "source": [
    "from sklearn.preprocessing import StandardScaler, MinMaxScaler\n"
   ]
  },
  {
   "cell_type": "code",
   "execution_count": 5,
   "metadata": {
    "scrolled": true
   },
   "outputs": [],
   "source": [
    "#SimFin data\n",
    "\n",
    "balance = pd.read_csv('data/balance.csv')\n",
    "prices = pd.read_csv('data/prices.csv')"
   ]
  },
  {
   "cell_type": "markdown",
   "metadata": {},
   "source": [
    "# Подготовка данных"
   ]
  },
  {
   "cell_type": "markdown",
   "metadata": {},
   "source": [
    "Заполняем пропуски, убираем даты, для которых нет фундаментальных показателей"
   ]
  },
  {
   "cell_type": "code",
   "execution_count": 6,
   "metadata": {
    "scrolled": true
   },
   "outputs": [],
   "source": [
    "comp_balance = balance[balance['Ticker'] == 'MSFT'].drop(columns=['Ticker', 'SimFinId'])\n",
    "comp_balance = comp_balance.rename(columns={'Report Date' : 'Date'})\n",
    "comp_price = prices[prices['Ticker'] == 'MSFT'].drop(columns=['Ticker', 'SimFinId'])\n",
    "\n",
    "data = pd.merge(comp_price, comp_balance, on='Date', how='outer')\n",
    "data = data.dropna(subset=['Open'])\n",
    "dividend = data['Dividend']\n",
    "\n",
    "data = data.drop(columns=['Dividend'])\n",
    "\n",
    "data = data.interpolate(method='linear')\n",
    "data = data.drop(columns=['Treasury Stock', 'Currency', 'Fiscal Year', 'Fiscal Period', 'Publish Date', 'Restated Date'])\n",
    "data = data.dropna()\n",
    "#Логично дивиденды заполнить нулями, так как их не было\n",
    "data['Dividend'] = dividend.fillna(0)\n",
    "data = data.reset_index()\n",
    "data = data.drop(columns=['index', 'Shares (Basic)', 'Shares (Diluted)', 'Volume'])\n",
    "data['Date'] = data['Date'].apply(lambda dt: datetime.datetime.strptime(dt, \"%Y-%m-%d\").strftime(\"%d.%m.%Y\"))"
   ]
  },
  {
   "cell_type": "code",
   "execution_count": 7,
   "metadata": {
    "scrolled": true
   },
   "outputs": [
    {
     "data": {
      "text/html": [
       "<div>\n",
       "<style scoped>\n",
       "    .dataframe tbody tr th:only-of-type {\n",
       "        vertical-align: middle;\n",
       "    }\n",
       "\n",
       "    .dataframe tbody tr th {\n",
       "        vertical-align: top;\n",
       "    }\n",
       "\n",
       "    .dataframe thead th {\n",
       "        text-align: right;\n",
       "    }\n",
       "</style>\n",
       "<table border=\"1\" class=\"dataframe\">\n",
       "  <thead>\n",
       "    <tr style=\"text-align: right;\">\n",
       "      <th></th>\n",
       "      <th>Date</th>\n",
       "      <th>Open</th>\n",
       "      <th>Low</th>\n",
       "      <th>High</th>\n",
       "      <th>Close</th>\n",
       "      <th>Adj. Close</th>\n",
       "      <th>Shares Outstanding</th>\n",
       "      <th>Cash, Cash Equivalents &amp; Short Term Investments</th>\n",
       "      <th>Accounts &amp; Notes Receivable</th>\n",
       "      <th>Inventories</th>\n",
       "      <th>...</th>\n",
       "      <th>Short Term Debt</th>\n",
       "      <th>Total Current Liabilities</th>\n",
       "      <th>Long Term Debt</th>\n",
       "      <th>Total Noncurrent Liabilities</th>\n",
       "      <th>Total Liabilities</th>\n",
       "      <th>Share Capital &amp; Additional Paid-In Capital</th>\n",
       "      <th>Retained Earnings</th>\n",
       "      <th>Total Equity</th>\n",
       "      <th>Total Liabilities &amp; Equity</th>\n",
       "      <th>Dividend</th>\n",
       "    </tr>\n",
       "  </thead>\n",
       "  <tbody>\n",
       "    <tr>\n",
       "      <th>0</th>\n",
       "      <td>30.06.2009</td>\n",
       "      <td>23.97</td>\n",
       "      <td>23.63</td>\n",
       "      <td>24.24</td>\n",
       "      <td>23.77</td>\n",
       "      <td>18.29</td>\n",
       "      <td>8.908000e+09</td>\n",
       "      <td>3.144700e+10</td>\n",
       "      <td>1.119200e+10</td>\n",
       "      <td>7.170000e+08</td>\n",
       "      <td>...</td>\n",
       "      <td>2.000000e+09</td>\n",
       "      <td>2.703400e+10</td>\n",
       "      <td>3.746000e+09</td>\n",
       "      <td>1.129600e+10</td>\n",
       "      <td>3.833000e+10</td>\n",
       "      <td>6.238200e+10</td>\n",
       "      <td>-2.282400e+10</td>\n",
       "      <td>3.955800e+10</td>\n",
       "      <td>7.788800e+10</td>\n",
       "      <td>0.0</td>\n",
       "    </tr>\n",
       "    <tr>\n",
       "      <th>1</th>\n",
       "      <td>01.07.2009</td>\n",
       "      <td>24.05</td>\n",
       "      <td>23.96</td>\n",
       "      <td>24.30</td>\n",
       "      <td>24.04</td>\n",
       "      <td>18.50</td>\n",
       "      <td>8.908000e+09</td>\n",
       "      <td>3.152952e+10</td>\n",
       "      <td>1.115130e+10</td>\n",
       "      <td>7.237656e+08</td>\n",
       "      <td>...</td>\n",
       "      <td>2.003906e+09</td>\n",
       "      <td>2.706098e+10</td>\n",
       "      <td>3.746000e+09</td>\n",
       "      <td>1.130136e+10</td>\n",
       "      <td>3.836234e+10</td>\n",
       "      <td>6.238061e+10</td>\n",
       "      <td>-2.279677e+10</td>\n",
       "      <td>3.958384e+10</td>\n",
       "      <td>7.794619e+10</td>\n",
       "      <td>0.0</td>\n",
       "    </tr>\n",
       "    <tr>\n",
       "      <th>2</th>\n",
       "      <td>02.07.2009</td>\n",
       "      <td>23.76</td>\n",
       "      <td>23.21</td>\n",
       "      <td>24.04</td>\n",
       "      <td>23.37</td>\n",
       "      <td>17.98</td>\n",
       "      <td>8.908000e+09</td>\n",
       "      <td>3.161203e+10</td>\n",
       "      <td>1.111059e+10</td>\n",
       "      <td>7.305312e+08</td>\n",
       "      <td>...</td>\n",
       "      <td>2.007812e+09</td>\n",
       "      <td>2.708797e+10</td>\n",
       "      <td>3.746000e+09</td>\n",
       "      <td>1.130672e+10</td>\n",
       "      <td>3.839469e+10</td>\n",
       "      <td>6.237922e+10</td>\n",
       "      <td>-2.276953e+10</td>\n",
       "      <td>3.960969e+10</td>\n",
       "      <td>7.800438e+10</td>\n",
       "      <td>0.0</td>\n",
       "    </tr>\n",
       "    <tr>\n",
       "      <th>3</th>\n",
       "      <td>06.07.2009</td>\n",
       "      <td>23.21</td>\n",
       "      <td>22.87</td>\n",
       "      <td>23.28</td>\n",
       "      <td>23.20</td>\n",
       "      <td>17.85</td>\n",
       "      <td>8.908000e+09</td>\n",
       "      <td>3.169455e+10</td>\n",
       "      <td>1.106989e+10</td>\n",
       "      <td>7.372969e+08</td>\n",
       "      <td>...</td>\n",
       "      <td>2.011719e+09</td>\n",
       "      <td>2.711495e+10</td>\n",
       "      <td>3.746000e+09</td>\n",
       "      <td>1.131208e+10</td>\n",
       "      <td>3.842703e+10</td>\n",
       "      <td>6.237783e+10</td>\n",
       "      <td>-2.274230e+10</td>\n",
       "      <td>3.963553e+10</td>\n",
       "      <td>7.806256e+10</td>\n",
       "      <td>0.0</td>\n",
       "    </tr>\n",
       "    <tr>\n",
       "      <th>4</th>\n",
       "      <td>07.07.2009</td>\n",
       "      <td>23.08</td>\n",
       "      <td>22.46</td>\n",
       "      <td>23.14</td>\n",
       "      <td>22.53</td>\n",
       "      <td>17.34</td>\n",
       "      <td>8.908000e+09</td>\n",
       "      <td>3.177706e+10</td>\n",
       "      <td>1.102919e+10</td>\n",
       "      <td>7.440625e+08</td>\n",
       "      <td>...</td>\n",
       "      <td>2.015625e+09</td>\n",
       "      <td>2.714194e+10</td>\n",
       "      <td>3.746000e+09</td>\n",
       "      <td>1.131744e+10</td>\n",
       "      <td>3.845938e+10</td>\n",
       "      <td>6.237644e+10</td>\n",
       "      <td>-2.271506e+10</td>\n",
       "      <td>3.966138e+10</td>\n",
       "      <td>7.812075e+10</td>\n",
       "      <td>0.0</td>\n",
       "    </tr>\n",
       "    <tr>\n",
       "      <th>...</th>\n",
       "      <td>...</td>\n",
       "      <td>...</td>\n",
       "      <td>...</td>\n",
       "      <td>...</td>\n",
       "      <td>...</td>\n",
       "      <td>...</td>\n",
       "      <td>...</td>\n",
       "      <td>...</td>\n",
       "      <td>...</td>\n",
       "      <td>...</td>\n",
       "      <td>...</td>\n",
       "      <td>...</td>\n",
       "      <td>...</td>\n",
       "      <td>...</td>\n",
       "      <td>...</td>\n",
       "      <td>...</td>\n",
       "      <td>...</td>\n",
       "      <td>...</td>\n",
       "      <td>...</td>\n",
       "      <td>...</td>\n",
       "      <td>...</td>\n",
       "    </tr>\n",
       "    <tr>\n",
       "      <th>2700</th>\n",
       "      <td>23.03.2020</td>\n",
       "      <td>137.01</td>\n",
       "      <td>132.52</td>\n",
       "      <td>140.57</td>\n",
       "      <td>135.98</td>\n",
       "      <td>134.61</td>\n",
       "      <td>7.606047e+09</td>\n",
       "      <td>1.342530e+11</td>\n",
       "      <td>2.352500e+10</td>\n",
       "      <td>1.823000e+09</td>\n",
       "      <td>...</td>\n",
       "      <td>6.247000e+09</td>\n",
       "      <td>5.964000e+10</td>\n",
       "      <td>6.336100e+10</td>\n",
       "      <td>1.130450e+11</td>\n",
       "      <td>1.726850e+11</td>\n",
       "      <td>7.962500e+10</td>\n",
       "      <td>3.048400e+10</td>\n",
       "      <td>1.101090e+11</td>\n",
       "      <td>2.827940e+11</td>\n",
       "      <td>0.0</td>\n",
       "    </tr>\n",
       "    <tr>\n",
       "      <th>2701</th>\n",
       "      <td>24.03.2020</td>\n",
       "      <td>143.75</td>\n",
       "      <td>141.27</td>\n",
       "      <td>149.60</td>\n",
       "      <td>148.34</td>\n",
       "      <td>146.85</td>\n",
       "      <td>7.606047e+09</td>\n",
       "      <td>1.342530e+11</td>\n",
       "      <td>2.352500e+10</td>\n",
       "      <td>1.823000e+09</td>\n",
       "      <td>...</td>\n",
       "      <td>6.247000e+09</td>\n",
       "      <td>5.964000e+10</td>\n",
       "      <td>6.336100e+10</td>\n",
       "      <td>1.130450e+11</td>\n",
       "      <td>1.726850e+11</td>\n",
       "      <td>7.962500e+10</td>\n",
       "      <td>3.048400e+10</td>\n",
       "      <td>1.101090e+11</td>\n",
       "      <td>2.827940e+11</td>\n",
       "      <td>0.0</td>\n",
       "    </tr>\n",
       "    <tr>\n",
       "      <th>2702</th>\n",
       "      <td>25.03.2020</td>\n",
       "      <td>148.91</td>\n",
       "      <td>144.44</td>\n",
       "      <td>154.33</td>\n",
       "      <td>146.92</td>\n",
       "      <td>145.44</td>\n",
       "      <td>7.606047e+09</td>\n",
       "      <td>1.342530e+11</td>\n",
       "      <td>2.352500e+10</td>\n",
       "      <td>1.823000e+09</td>\n",
       "      <td>...</td>\n",
       "      <td>6.247000e+09</td>\n",
       "      <td>5.964000e+10</td>\n",
       "      <td>6.336100e+10</td>\n",
       "      <td>1.130450e+11</td>\n",
       "      <td>1.726850e+11</td>\n",
       "      <td>7.962500e+10</td>\n",
       "      <td>3.048400e+10</td>\n",
       "      <td>1.101090e+11</td>\n",
       "      <td>2.827940e+11</td>\n",
       "      <td>0.0</td>\n",
       "    </tr>\n",
       "    <tr>\n",
       "      <th>2703</th>\n",
       "      <td>26.03.2020</td>\n",
       "      <td>148.40</td>\n",
       "      <td>148.37</td>\n",
       "      <td>156.66</td>\n",
       "      <td>156.11</td>\n",
       "      <td>154.54</td>\n",
       "      <td>7.606047e+09</td>\n",
       "      <td>1.342530e+11</td>\n",
       "      <td>2.352500e+10</td>\n",
       "      <td>1.823000e+09</td>\n",
       "      <td>...</td>\n",
       "      <td>6.247000e+09</td>\n",
       "      <td>5.964000e+10</td>\n",
       "      <td>6.336100e+10</td>\n",
       "      <td>1.130450e+11</td>\n",
       "      <td>1.726850e+11</td>\n",
       "      <td>7.962500e+10</td>\n",
       "      <td>3.048400e+10</td>\n",
       "      <td>1.101090e+11</td>\n",
       "      <td>2.827940e+11</td>\n",
       "      <td>0.0</td>\n",
       "    </tr>\n",
       "    <tr>\n",
       "      <th>2704</th>\n",
       "      <td>27.03.2020</td>\n",
       "      <td>151.75</td>\n",
       "      <td>149.20</td>\n",
       "      <td>154.89</td>\n",
       "      <td>149.70</td>\n",
       "      <td>148.19</td>\n",
       "      <td>7.606047e+09</td>\n",
       "      <td>1.342530e+11</td>\n",
       "      <td>2.352500e+10</td>\n",
       "      <td>1.823000e+09</td>\n",
       "      <td>...</td>\n",
       "      <td>6.247000e+09</td>\n",
       "      <td>5.964000e+10</td>\n",
       "      <td>6.336100e+10</td>\n",
       "      <td>1.130450e+11</td>\n",
       "      <td>1.726850e+11</td>\n",
       "      <td>7.962500e+10</td>\n",
       "      <td>3.048400e+10</td>\n",
       "      <td>1.101090e+11</td>\n",
       "      <td>2.827940e+11</td>\n",
       "      <td>0.0</td>\n",
       "    </tr>\n",
       "  </tbody>\n",
       "</table>\n",
       "<p>2705 rows × 27 columns</p>\n",
       "</div>"
      ],
      "text/plain": [
       "            Date    Open     Low    High   Close  Adj. Close  \\\n",
       "0     30.06.2009   23.97   23.63   24.24   23.77       18.29   \n",
       "1     01.07.2009   24.05   23.96   24.30   24.04       18.50   \n",
       "2     02.07.2009   23.76   23.21   24.04   23.37       17.98   \n",
       "3     06.07.2009   23.21   22.87   23.28   23.20       17.85   \n",
       "4     07.07.2009   23.08   22.46   23.14   22.53       17.34   \n",
       "...          ...     ...     ...     ...     ...         ...   \n",
       "2700  23.03.2020  137.01  132.52  140.57  135.98      134.61   \n",
       "2701  24.03.2020  143.75  141.27  149.60  148.34      146.85   \n",
       "2702  25.03.2020  148.91  144.44  154.33  146.92      145.44   \n",
       "2703  26.03.2020  148.40  148.37  156.66  156.11      154.54   \n",
       "2704  27.03.2020  151.75  149.20  154.89  149.70      148.19   \n",
       "\n",
       "      Shares Outstanding  Cash, Cash Equivalents & Short Term Investments  \\\n",
       "0           8.908000e+09                                     3.144700e+10   \n",
       "1           8.908000e+09                                     3.152952e+10   \n",
       "2           8.908000e+09                                     3.161203e+10   \n",
       "3           8.908000e+09                                     3.169455e+10   \n",
       "4           8.908000e+09                                     3.177706e+10   \n",
       "...                  ...                                              ...   \n",
       "2700        7.606047e+09                                     1.342530e+11   \n",
       "2701        7.606047e+09                                     1.342530e+11   \n",
       "2702        7.606047e+09                                     1.342530e+11   \n",
       "2703        7.606047e+09                                     1.342530e+11   \n",
       "2704        7.606047e+09                                     1.342530e+11   \n",
       "\n",
       "      Accounts & Notes Receivable   Inventories  ...  Short Term Debt  \\\n",
       "0                    1.119200e+10  7.170000e+08  ...     2.000000e+09   \n",
       "1                    1.115130e+10  7.237656e+08  ...     2.003906e+09   \n",
       "2                    1.111059e+10  7.305312e+08  ...     2.007812e+09   \n",
       "3                    1.106989e+10  7.372969e+08  ...     2.011719e+09   \n",
       "4                    1.102919e+10  7.440625e+08  ...     2.015625e+09   \n",
       "...                           ...           ...  ...              ...   \n",
       "2700                 2.352500e+10  1.823000e+09  ...     6.247000e+09   \n",
       "2701                 2.352500e+10  1.823000e+09  ...     6.247000e+09   \n",
       "2702                 2.352500e+10  1.823000e+09  ...     6.247000e+09   \n",
       "2703                 2.352500e+10  1.823000e+09  ...     6.247000e+09   \n",
       "2704                 2.352500e+10  1.823000e+09  ...     6.247000e+09   \n",
       "\n",
       "      Total Current Liabilities  Long Term Debt  Total Noncurrent Liabilities  \\\n",
       "0                  2.703400e+10    3.746000e+09                  1.129600e+10   \n",
       "1                  2.706098e+10    3.746000e+09                  1.130136e+10   \n",
       "2                  2.708797e+10    3.746000e+09                  1.130672e+10   \n",
       "3                  2.711495e+10    3.746000e+09                  1.131208e+10   \n",
       "4                  2.714194e+10    3.746000e+09                  1.131744e+10   \n",
       "...                         ...             ...                           ...   \n",
       "2700               5.964000e+10    6.336100e+10                  1.130450e+11   \n",
       "2701               5.964000e+10    6.336100e+10                  1.130450e+11   \n",
       "2702               5.964000e+10    6.336100e+10                  1.130450e+11   \n",
       "2703               5.964000e+10    6.336100e+10                  1.130450e+11   \n",
       "2704               5.964000e+10    6.336100e+10                  1.130450e+11   \n",
       "\n",
       "      Total Liabilities  Share Capital & Additional Paid-In Capital  \\\n",
       "0          3.833000e+10                                6.238200e+10   \n",
       "1          3.836234e+10                                6.238061e+10   \n",
       "2          3.839469e+10                                6.237922e+10   \n",
       "3          3.842703e+10                                6.237783e+10   \n",
       "4          3.845938e+10                                6.237644e+10   \n",
       "...                 ...                                         ...   \n",
       "2700       1.726850e+11                                7.962500e+10   \n",
       "2701       1.726850e+11                                7.962500e+10   \n",
       "2702       1.726850e+11                                7.962500e+10   \n",
       "2703       1.726850e+11                                7.962500e+10   \n",
       "2704       1.726850e+11                                7.962500e+10   \n",
       "\n",
       "      Retained Earnings  Total Equity  Total Liabilities & Equity  Dividend  \n",
       "0         -2.282400e+10  3.955800e+10                7.788800e+10       0.0  \n",
       "1         -2.279677e+10  3.958384e+10                7.794619e+10       0.0  \n",
       "2         -2.276953e+10  3.960969e+10                7.800438e+10       0.0  \n",
       "3         -2.274230e+10  3.963553e+10                7.806256e+10       0.0  \n",
       "4         -2.271506e+10  3.966138e+10                7.812075e+10       0.0  \n",
       "...                 ...           ...                         ...       ...  \n",
       "2700       3.048400e+10  1.101090e+11                2.827940e+11       0.0  \n",
       "2701       3.048400e+10  1.101090e+11                2.827940e+11       0.0  \n",
       "2702       3.048400e+10  1.101090e+11                2.827940e+11       0.0  \n",
       "2703       3.048400e+10  1.101090e+11                2.827940e+11       0.0  \n",
       "2704       3.048400e+10  1.101090e+11                2.827940e+11       0.0  \n",
       "\n",
       "[2705 rows x 27 columns]"
      ]
     },
     "execution_count": 7,
     "metadata": {},
     "output_type": "execute_result"
    }
   ],
   "source": [
    "data"
   ]
  },
  {
   "cell_type": "markdown",
   "metadata": {},
   "source": [
    "# Порисуем графики"
   ]
  },
  {
   "cell_type": "code",
   "execution_count": 8,
   "metadata": {},
   "outputs": [
    {
     "data": {
      "image/png": "[encoded data removed]",
      "text/plain": [
       "<Figure size 432x288 with 3 Axes>"
      ]
     },
     "metadata": {
      "needs_background": "light"
     },
     "output_type": "display_data"
    }
   ],
   "source": [
    "date_time = pd.to_datetime(data['Date'], format='%d.%m.%Y')\n",
    "\n",
    "plot_cols = ['Total Liabilities', 'Open', 'Total Equity']\n",
    "plot_features = data[plot_cols]\n",
    "plot_features.index = date_time\n",
    "_ = plot_features.plot(subplots=True)"
   ]
  },
  {
   "cell_type": "code",
   "execution_count": 9,
   "metadata": {},
   "outputs": [],
   "source": [
    "data = data.set_index('Date')\n",
    "dim = len(data.columns)\n",
    "data['Target'] = (data['Low'] + data['High'])*0.5\n",
    "X = data.iloc[:, :-1]\n",
    "X = X.iloc[:-1]\n",
    "y = data.iloc[:, -1:]\n",
    "y = y.iloc[1:]"
   ]
  },
  {
   "cell_type": "code",
   "execution_count": 10,
   "metadata": {},
   "outputs": [],
   "source": [
    "mm = MinMaxScaler()\n",
    "ss = StandardScaler()\n",
    "\n",
    "X_ss = ss.fit_transform(X)\n",
    "y_mm = mm.fit_transform(y) \n",
    "\n",
    "\n",
    "X_train = X_ss[:2300, :]\n",
    "X_test = X_ss[2300:, :]\n",
    "\n",
    "y_train = y_mm[:2300, :]\n",
    "y_test = y_mm[2300:, :]\n",
    "\n",
    "\n",
    "X_train_tensors = Variable(torch.Tensor(X_train))\n",
    "X_test_tensors = Variable(torch.Tensor(X_test))\n",
    "\n",
    "y_train_tensors = Variable(torch.Tensor(y_train))\n",
    "y_test_tensors = Variable(torch.Tensor(y_test)) \n",
    "\n",
    "\n",
    "X_train_tensors_final = torch.reshape(X_train_tensors,   (X_train_tensors.shape[0], 1, X_train_tensors.shape[1]))\n",
    "\n",
    "X_test_tensors_final = torch.reshape(X_test_tensors,  (X_test_tensors.shape[0], 1, X_test_tensors.shape[1])) "
   ]
  },
  {
   "cell_type": "code",
   "execution_count": 11,
   "metadata": {},
   "outputs": [
    {
     "name": "stdout",
     "output_type": "stream",
     "text": [
      "Training Shape torch.Size([2300, 1, 26]) torch.Size([2300, 1])\n",
      "Testing Shape torch.Size([404, 1, 26]) torch.Size([404, 1])\n"
     ]
    }
   ],
   "source": [
    "print(\"Training Shape\", X_train_tensors_final.shape, y_train_tensors.shape)\n",
    "print(\"Testing Shape\", X_test_tensors_final.shape, y_test_tensors.shape) \n"
   ]
  },
  {
   "cell_type": "markdown",
   "metadata": {},
   "source": [
    "# Построение модели"
   ]
  },
  {
   "cell_type": "code",
   "execution_count": 12,
   "metadata": {},
   "outputs": [],
   "source": [
    "class LSTM1(nn.Module):\n",
    "    def __init__(self, num_classes, input_size, hidden_size, num_layers, seq_length, linear_dim):\n",
    "        super(LSTM1, self).__init__()\n",
    "        self.num_classes = num_classes #number of classes\n",
    "        self.num_layers = num_layers #number of layers\n",
    "        self.input_size = input_size #input size\n",
    "        self.hidden_size = hidden_size #hidden state\n",
    "        self.seq_length = seq_length #sequence length\n",
    "        self.linear_dim = linear_dim #dim of linear layers\n",
    "\n",
    "        self.lstm = nn.LSTM(input_size=input_size, hidden_size=hidden_size,\n",
    "                          num_layers=num_layers, batch_first=True) #lstm\n",
    "        self.fc_1 =  nn.Linear(hidden_size, linear_dim) #fully connected 1\n",
    "        self.fc = nn.Linear(linear_dim, num_classes) #fully connected last layer\n",
    "\n",
    "        self.relu = nn.ReLU()\n",
    "    \n",
    "    def forward(self,x):\n",
    "        h_0 = Variable(torch.zeros(self.num_layers, x.size(0), self.hidden_size)) #hidden state\n",
    "        c_0 = Variable(torch.zeros(self.num_layers, x.size(0), self.hidden_size)) #internal state\n",
    "        # Propagate input through LSTM\n",
    "        output, (hn, cn) = self.lstm(x, (h_0, c_0)) #lstm with input, hidden, and internal state\n",
    "        hn = hn.view(-1, self.hidden_size) #reshaping the data for Dense layer next\n",
    "        out = self.relu(hn)\n",
    "        out = self.fc_1(out) #first Dense\n",
    "        out = self.relu(out) #relu\n",
    "        out = self.fc(out) #Final Output\n",
    "        return out\n",
    " "
   ]
  },
  {
   "cell_type": "markdown",
   "metadata": {},
   "source": [
    "# Обучение"
   ]
  },
  {
   "cell_type": "code",
   "execution_count": 13,
   "metadata": {},
   "outputs": [],
   "source": [
    "num_epochs = 1000 #1000 epochs\n",
    "learning_rate = 0.001 #0.001 lr\n",
    "\n",
    "input_size = dim #number of features\n",
    "hidden_size = 4 #number of features in hidden state\n",
    "num_layers = 1 #number of stacked lstm layers\n",
    "linear_dim = 128 #dim of linear layers\n",
    "\n",
    "num_classes = 1 #number of output classes "
   ]
  },
  {
   "cell_type": "code",
   "execution_count": 14,
   "metadata": {},
   "outputs": [],
   "source": [
    "lstm1 = LSTM1(num_classes, input_size, hidden_size, num_layers, X_train_tensors_final.shape[1], linear_dim) #our lstm class \n",
    "lstm1\n",
    "criterion = torch.nn.MSELoss()    # mean-squared error for regression\n",
    "optimizer = torch.optim.Adam(lstm1.parameters(), lr=learning_rate) \n"
   ]
  },
  {
   "cell_type": "code",
   "execution_count": 15,
   "metadata": {},
   "outputs": [
    {
     "name": "stdout",
     "output_type": "stream",
     "text": [
      "Epoch: 0, loss: 0.10145\n",
      "Epoch: 100, loss: 0.00065\n",
      "Epoch: 200, loss: 0.00027\n",
      "Epoch: 300, loss: 0.00019\n",
      "Epoch: 400, loss: 0.00014\n",
      "Epoch: 500, loss: 0.00011\n",
      "Epoch: 600, loss: 0.00009\n",
      "Epoch: 700, loss: 0.00007\n",
      "Epoch: 800, loss: 0.00006\n",
      "Epoch: 900, loss: 0.00006\n"
     ]
    }
   ],
   "source": [
    "for epoch in range(num_epochs):\n",
    "    outputs = lstm1.forward(X_train_tensors_final) #forward pass\n",
    "    optimizer.zero_grad() #caluclate the gradient, manually setting to 0\n",
    " \n",
    "    # obtain the loss function\n",
    "    loss = criterion(outputs, y_train_tensors)\n",
    " \n",
    "    loss.backward() #calculates the loss of the loss function\n",
    " \n",
    "    optimizer.step() #improve from loss, i.e backprop\n",
    "    if epoch % 100 == 0:\n",
    "        print(\"Epoch: %d, loss: %1.5f\" % (epoch, loss.item())) \n"
   ]
  },
  {
   "cell_type": "code",
   "execution_count": 16,
   "metadata": {},
   "outputs": [],
   "source": [
    "df_X_ss = ss.transform(data.iloc[:, :-1]) #old transformers\n",
    "df_y_mm = mm.transform(data.iloc[:, -1:]) #old transformers\n",
    "\n",
    "df_X_ss = Variable(torch.Tensor(df_X_ss)) #converting to Tensors\n",
    "df_y_mm = Variable(torch.Tensor(df_y_mm))\n",
    "#reshaping the dataset\n",
    "df_X_ss = torch.reshape(df_X_ss, (df_X_ss.shape[0], 1, df_X_ss.shape[1])) \n"
   ]
  },
  {
   "cell_type": "code",
   "execution_count": 17,
   "metadata": {},
   "outputs": [
    {
     "data": {
      "image/png": "[encoded data removed]",
      "text/plain": [
       "<Figure size 1440x432 with 1 Axes>"
      ]
     },
     "metadata": {
      "needs_background": "light"
     },
     "output_type": "display_data"
    }
   ],
   "source": [
    "train_predict = lstm1(df_X_ss)#forward pass\n",
    "data_predict = train_predict.data.numpy() #numpy conversion\n",
    "dataY_plot = df_y_mm.data.numpy()\n",
    "\n",
    "data_predict = mm.inverse_transform(data_predict) #reverse transformation\n",
    "dataY_plot = mm.inverse_transform(dataY_plot)\n",
    "plt.figure(figsize=(20,6)) #plotting\n",
    "plt.axvline(x=2300, c='r', linestyle='--') #size of the training set\n",
    "\n",
    "plt.plot(dataY_plot, label='Actuall Data') #actual plot\n",
    "plt.plot(data_predict, label='Predicted Data') #predicted plot\n",
    "plt.title('Time-Series Prediction')\n",
    "plt.legend()\n",
    "plt.show() "
   ]
  },
  {
   "cell_type": "markdown",
   "metadata": {},
   "source": [
    "# Подбор параметров."
   ]
  },
  {
   "cell_type": "code",
   "execution_count": 18,
   "metadata": {},
   "outputs": [
    {
     "name": "stdout",
     "output_type": "stream",
     "text": [
      "linear_dim = 64 | hidden_size = 2 | mse = 0.41182\n",
      "linear_dim = 64 | hidden_size = 4 | mse = 0.36936\n",
      "linear_dim = 64 | hidden_size = 8 | mse = 0.43190\n",
      "linear_dim = 64 | hidden_size = 12 | mse = 0.30148\n",
      "linear_dim = 64 | hidden_size = 16 | mse = 0.40473\n",
      "linear_dim = 128 | hidden_size = 2 | mse = 0.32995\n",
      "linear_dim = 128 | hidden_size = 4 | mse = 0.42638\n",
      "linear_dim = 128 | hidden_size = 8 | mse = 0.51026\n",
      "linear_dim = 128 | hidden_size = 12 | mse = 0.32840\n",
      "linear_dim = 128 | hidden_size = 16 | mse = 0.27930\n",
      "linear_dim = 256 | hidden_size = 2 | mse = 0.22402\n",
      "linear_dim = 256 | hidden_size = 4 | mse = 0.58323\n",
      "linear_dim = 256 | hidden_size = 8 | mse = 0.39571\n",
      "linear_dim = 256 | hidden_size = 12 | mse = 0.66693\n",
      "linear_dim = 256 | hidden_size = 16 | mse = 0.36411\n"
     ]
    }
   ],
   "source": [
    "df_X_ss = ss.transform(data.iloc[2300:-1, :-1]) #old transformers\n",
    "df_y_mm = mm.transform(data.iloc[2301:, -1:]) #old transformers\n",
    "\n",
    "\n",
    "df_X_ss = Variable(torch.Tensor(df_X_ss)) #converting to Tensors\n",
    "df_y_mm = Variable(torch.Tensor(df_y_mm))\n",
    "#reshaping the dataset\n",
    "df_X_ss = torch.reshape(df_X_ss, (df_X_ss.shape[0], 1, df_X_ss.shape[1])) \n",
    "\n",
    "\n",
    "results = []\n",
    "for ld in [64, 128, 256]:\n",
    "    for hs in [2, 4, 8, 12, 16]:\n",
    "        lstm1 = LSTM1(num_classes, input_size, hs, num_layers, X_train_tensors_final.shape[1], ld) #our lstm class\n",
    "        outputs = lstm1.forward(X_train_tensors_final) #forward pass\n",
    "        optimizer.zero_grad() #caluclate the gradient, manually setting to 0\n",
    "        \n",
    "        for epoch in range(num_epochs):\n",
    "            outputs = lstm1.forward(X_train_tensors_final) #forward pass\n",
    "            optimizer.zero_grad() #caluclate the gradient, manually setting to 0\n",
    " \n",
    "            # obtain the loss function\n",
    "            loss = criterion(outputs, y_train_tensors)\n",
    " \n",
    "            loss.backward() #calculates the loss of the loss function\n",
    " \n",
    "            optimizer.step() #improve from loss, i.e backprop\n",
    "     \n",
    "        outputs = lstm1.forward(X_test_tensors_final)\n",
    "        loss = criterion(outputs, y_test_tensors)\n",
    "        mse = loss.item()\n",
    "        results.append([int(ld), int(hs), mse])\n",
    "        print(\"linear_dim = %d | hidden_size = %d | mse = %1.5f\" % (ld, hs, mse))\n",
    "        "
   ]
  },
  {
   "cell_type": "code",
   "execution_count": 19,
   "metadata": {},
   "outputs": [
    {
     "name": "stdout",
     "output_type": "stream",
     "text": [
      "     ld  hs       mse\n",
      "10  256   2  0.224017\n"
     ]
    }
   ],
   "source": [
    "res_df = pd.DataFrame(results, columns =['ld', 'hs', 'mse'])\n",
    "best = res_df[res_df.mse == res_df.mse.min()]\n",
    "print(best)\n",
    "best = best.to_numpy()"
   ]
  },
  {
   "cell_type": "code",
   "execution_count": 20,
   "metadata": {},
   "outputs": [],
   "source": [
    "lstm1 = LSTM1(num_classes, input_size, int(best[0][0]), num_layers, X_train_tensors_final.shape[1], int(best[0][0])) #our lstm class \n",
    "criterion = torch.nn.MSELoss()    # mean-squared error for regression\n",
    "optimizer = torch.optim.Adam(lstm1.parameters(), lr=learning_rate) "
   ]
  },
  {
   "cell_type": "code",
   "execution_count": 21,
   "metadata": {},
   "outputs": [
    {
     "name": "stdout",
     "output_type": "stream",
     "text": [
      "Epoch: 0, loss: 0.04415\n",
      "Epoch: 100, loss: 0.00010\n",
      "Epoch: 200, loss: 0.00001\n",
      "Epoch: 300, loss: 0.00001\n",
      "Epoch: 400, loss: 0.00001\n",
      "Epoch: 500, loss: 0.00001\n",
      "Epoch: 600, loss: 0.00001\n",
      "Epoch: 700, loss: 0.00001\n",
      "Epoch: 800, loss: 0.00001\n",
      "Epoch: 900, loss: 0.00001\n"
     ]
    }
   ],
   "source": [
    "for epoch in range(num_epochs):\n",
    "    outputs = lstm1.forward(X_train_tensors_final) #forward pass\n",
    "    optimizer.zero_grad() #caluclate the gradient, manually setting to 0\n",
    " \n",
    "    # obtain the loss function\n",
    "    loss = criterion(outputs, y_train_tensors)\n",
    " \n",
    "    loss.backward() #calculates the loss of the loss function\n",
    " \n",
    "    optimizer.step() #improve from loss, i.e backprop\n",
    "    if epoch % 100 == 0:\n",
    "        print(\"Epoch: %d, loss: %1.5f\" % (epoch, loss.item())) \n"
   ]
  },
  {
   "cell_type": "code",
   "execution_count": 22,
   "metadata": {},
   "outputs": [],
   "source": [
    "df_X_ss = ss.transform(data.iloc[:, :-1]) #old transformers\n",
    "df_y_mm = mm.transform(data.iloc[:, -1:]) #old transformers\n",
    "\n",
    "df_X_ss = Variable(torch.Tensor(df_X_ss)) #converting to Tensors\n",
    "df_y_mm = Variable(torch.Tensor(df_y_mm))\n",
    "#reshaping the dataset\n",
    "df_X_ss = torch.reshape(df_X_ss, (df_X_ss.shape[0], 1, df_X_ss.shape[1])) "
   ]
  },
  {
   "cell_type": "code",
   "execution_count": 23,
   "metadata": {},
   "outputs": [
    {
     "data": {
      "image/png": "[encoded data removed]",
      "text/plain": [
       "<Figure size 1440x432 with 1 Axes>"
      ]
     },
     "metadata": {
      "needs_background": "light"
     },
     "output_type": "display_data"
    }
   ],
   "source": [
    "train_predict = lstm1(df_X_ss)#forward pass\n",
    "data_predict = train_predict.data.numpy() #numpy conversion\n",
    "dataY_plot = df_y_mm.data.numpy()\n",
    "\n",
    "data_predict = mm.inverse_transform(data_predict) #reverse transformation\n",
    "dataY_plot = mm.inverse_transform(dataY_plot)\n",
    "plt.figure(figsize=(20,6)) #plotting\n",
    "plt.axvline(x=2300, c='r', linestyle='--') #size of the training set\n",
    "\n",
    "plt.plot(dataY_plot, label='Actuall Data') #actual plot\n",
    "plt.plot(data_predict, label='Predicted Data') #predicted plot\n",
    "plt.title('Time-Series Prediction')\n",
    "plt.legend()\n",
    "plt.show() "
   ]
  },
  {
   "cell_type": "markdown",
   "metadata": {},
   "source": [
    "# Обработка данных 2"
   ]
  },
  {
   "cell_type": "markdown",
   "metadata": {},
   "source": [
    "Оставим только наиболее значимые и некоррелирующие признаки"
   ]
  },
  {
   "cell_type": "code",
   "execution_count": 24,
   "metadata": {},
   "outputs": [],
   "source": [
    "comp_balance = balance[balance['Ticker'] == 'MSFT'].drop(columns=['Ticker', 'SimFinId'])\n",
    "comp_balance = comp_balance.rename(columns={'Report Date' : 'Date'})\n",
    "comp_price = prices[prices['Ticker'] == 'MSFT'].drop(columns=['Ticker', 'SimFinId'])\n",
    "\n",
    "data = pd.merge(comp_price, comp_balance, on='Date', how='outer')\n",
    "data = data.dropna(subset=['Open'])\n",
    "dividend = data['Dividend']\n",
    "\n",
    "data = data.drop(columns=['Dividend', 'Currency', 'Fiscal Period', 'Publish Date', 'Restated Date'])\n",
    "#\n",
    "data = data.interpolate(method='linear', limit_direction='forward', axis=0)\n",
    "data = data.drop(columns=['Treasury Stock'])\n",
    "\n",
    "data = data.dropna()\n",
    "#Логично дивиденды заполнить нулями, так как их не было\n",
    "data['Dividend'] = dividend.fillna(0)\n",
    "data = data.reset_index()\n",
    "data = data.drop(columns=['index', 'Fiscal Year', 'Shares (Basic)', 'Shares (Diluted)', 'Volume'])\n",
    "data = data.drop(columns=['Inventories', 'Share Capital & Additional Paid-In Capital', 'Payables & Accruals', 'Shares Outstanding', 'Accounts & Notes Receivable', 'Close'])\n",
    "data = data.drop(columns=['Property, Plant & Equipment, Net', 'Long Term Investments & Receivables', 'Other Long Term Assets', 'Total Noncurrent Assets', 'Total Current Assets'])\n",
    "data = data.drop(columns=['Total Noncurrent Liabilities', 'Total Current Liabilities', 'Total Liabilities & Equity', 'Short Term Debt', 'Long Term Debt', 'Dividend', 'Adj. Close'])\n",
    "data['Date'] = data['Date'].apply(lambda dt: datetime.datetime.strptime(dt, \"%Y-%m-%d\").strftime(\"%d.%m.%Y\"))"
   ]
  },
  {
   "cell_type": "code",
   "execution_count": 25,
   "metadata": {},
   "outputs": [
    {
     "data": {
      "text/html": [
       "<div>\n",
       "<style scoped>\n",
       "    .dataframe tbody tr th:only-of-type {\n",
       "        vertical-align: middle;\n",
       "    }\n",
       "\n",
       "    .dataframe tbody tr th {\n",
       "        vertical-align: top;\n",
       "    }\n",
       "\n",
       "    .dataframe thead th {\n",
       "        text-align: right;\n",
       "    }\n",
       "</style>\n",
       "<table border=\"1\" class=\"dataframe\">\n",
       "  <thead>\n",
       "    <tr style=\"text-align: right;\">\n",
       "      <th></th>\n",
       "      <th>Date</th>\n",
       "      <th>Open</th>\n",
       "      <th>Low</th>\n",
       "      <th>High</th>\n",
       "      <th>Cash, Cash Equivalents &amp; Short Term Investments</th>\n",
       "      <th>Total Assets</th>\n",
       "      <th>Total Liabilities</th>\n",
       "      <th>Retained Earnings</th>\n",
       "      <th>Total Equity</th>\n",
       "    </tr>\n",
       "  </thead>\n",
       "  <tbody>\n",
       "    <tr>\n",
       "      <th>0</th>\n",
       "      <td>30.06.2009</td>\n",
       "      <td>23.97</td>\n",
       "      <td>23.63</td>\n",
       "      <td>24.24</td>\n",
       "      <td>3.144700e+10</td>\n",
       "      <td>7.788800e+10</td>\n",
       "      <td>3.833000e+10</td>\n",
       "      <td>-2.282400e+10</td>\n",
       "      <td>3.955800e+10</td>\n",
       "    </tr>\n",
       "    <tr>\n",
       "      <th>1</th>\n",
       "      <td>01.07.2009</td>\n",
       "      <td>24.05</td>\n",
       "      <td>23.96</td>\n",
       "      <td>24.30</td>\n",
       "      <td>3.152952e+10</td>\n",
       "      <td>7.794619e+10</td>\n",
       "      <td>3.836234e+10</td>\n",
       "      <td>-2.279677e+10</td>\n",
       "      <td>3.958384e+10</td>\n",
       "    </tr>\n",
       "    <tr>\n",
       "      <th>2</th>\n",
       "      <td>02.07.2009</td>\n",
       "      <td>23.76</td>\n",
       "      <td>23.21</td>\n",
       "      <td>24.04</td>\n",
       "      <td>3.161203e+10</td>\n",
       "      <td>7.800438e+10</td>\n",
       "      <td>3.839469e+10</td>\n",
       "      <td>-2.276953e+10</td>\n",
       "      <td>3.960969e+10</td>\n",
       "    </tr>\n",
       "    <tr>\n",
       "      <th>3</th>\n",
       "      <td>06.07.2009</td>\n",
       "      <td>23.21</td>\n",
       "      <td>22.87</td>\n",
       "      <td>23.28</td>\n",
       "      <td>3.169455e+10</td>\n",
       "      <td>7.806256e+10</td>\n",
       "      <td>3.842703e+10</td>\n",
       "      <td>-2.274230e+10</td>\n",
       "      <td>3.963553e+10</td>\n",
       "    </tr>\n",
       "    <tr>\n",
       "      <th>4</th>\n",
       "      <td>07.07.2009</td>\n",
       "      <td>23.08</td>\n",
       "      <td>22.46</td>\n",
       "      <td>23.14</td>\n",
       "      <td>3.177706e+10</td>\n",
       "      <td>7.812075e+10</td>\n",
       "      <td>3.845938e+10</td>\n",
       "      <td>-2.271506e+10</td>\n",
       "      <td>3.966138e+10</td>\n",
       "    </tr>\n",
       "    <tr>\n",
       "      <th>...</th>\n",
       "      <td>...</td>\n",
       "      <td>...</td>\n",
       "      <td>...</td>\n",
       "      <td>...</td>\n",
       "      <td>...</td>\n",
       "      <td>...</td>\n",
       "      <td>...</td>\n",
       "      <td>...</td>\n",
       "      <td>...</td>\n",
       "    </tr>\n",
       "    <tr>\n",
       "      <th>2700</th>\n",
       "      <td>23.03.2020</td>\n",
       "      <td>137.01</td>\n",
       "      <td>132.52</td>\n",
       "      <td>140.57</td>\n",
       "      <td>1.342530e+11</td>\n",
       "      <td>2.827940e+11</td>\n",
       "      <td>1.726850e+11</td>\n",
       "      <td>3.048400e+10</td>\n",
       "      <td>1.101090e+11</td>\n",
       "    </tr>\n",
       "    <tr>\n",
       "      <th>2701</th>\n",
       "      <td>24.03.2020</td>\n",
       "      <td>143.75</td>\n",
       "      <td>141.27</td>\n",
       "      <td>149.60</td>\n",
       "      <td>1.342530e+11</td>\n",
       "      <td>2.827940e+11</td>\n",
       "      <td>1.726850e+11</td>\n",
       "      <td>3.048400e+10</td>\n",
       "      <td>1.101090e+11</td>\n",
       "    </tr>\n",
       "    <tr>\n",
       "      <th>2702</th>\n",
       "      <td>25.03.2020</td>\n",
       "      <td>148.91</td>\n",
       "      <td>144.44</td>\n",
       "      <td>154.33</td>\n",
       "      <td>1.342530e+11</td>\n",
       "      <td>2.827940e+11</td>\n",
       "      <td>1.726850e+11</td>\n",
       "      <td>3.048400e+10</td>\n",
       "      <td>1.101090e+11</td>\n",
       "    </tr>\n",
       "    <tr>\n",
       "      <th>2703</th>\n",
       "      <td>26.03.2020</td>\n",
       "      <td>148.40</td>\n",
       "      <td>148.37</td>\n",
       "      <td>156.66</td>\n",
       "      <td>1.342530e+11</td>\n",
       "      <td>2.827940e+11</td>\n",
       "      <td>1.726850e+11</td>\n",
       "      <td>3.048400e+10</td>\n",
       "      <td>1.101090e+11</td>\n",
       "    </tr>\n",
       "    <tr>\n",
       "      <th>2704</th>\n",
       "      <td>27.03.2020</td>\n",
       "      <td>151.75</td>\n",
       "      <td>149.20</td>\n",
       "      <td>154.89</td>\n",
       "      <td>1.342530e+11</td>\n",
       "      <td>2.827940e+11</td>\n",
       "      <td>1.726850e+11</td>\n",
       "      <td>3.048400e+10</td>\n",
       "      <td>1.101090e+11</td>\n",
       "    </tr>\n",
       "  </tbody>\n",
       "</table>\n",
       "<p>2705 rows × 9 columns</p>\n",
       "</div>"
      ],
      "text/plain": [
       "            Date    Open     Low    High  \\\n",
       "0     30.06.2009   23.97   23.63   24.24   \n",
       "1     01.07.2009   24.05   23.96   24.30   \n",
       "2     02.07.2009   23.76   23.21   24.04   \n",
       "3     06.07.2009   23.21   22.87   23.28   \n",
       "4     07.07.2009   23.08   22.46   23.14   \n",
       "...          ...     ...     ...     ...   \n",
       "2700  23.03.2020  137.01  132.52  140.57   \n",
       "2701  24.03.2020  143.75  141.27  149.60   \n",
       "2702  25.03.2020  148.91  144.44  154.33   \n",
       "2703  26.03.2020  148.40  148.37  156.66   \n",
       "2704  27.03.2020  151.75  149.20  154.89   \n",
       "\n",
       "      Cash, Cash Equivalents & Short Term Investments  Total Assets  \\\n",
       "0                                        3.144700e+10  7.788800e+10   \n",
       "1                                        3.152952e+10  7.794619e+10   \n",
       "2                                        3.161203e+10  7.800438e+10   \n",
       "3                                        3.169455e+10  7.806256e+10   \n",
       "4                                        3.177706e+10  7.812075e+10   \n",
       "...                                               ...           ...   \n",
       "2700                                     1.342530e+11  2.827940e+11   \n",
       "2701                                     1.342530e+11  2.827940e+11   \n",
       "2702                                     1.342530e+11  2.827940e+11   \n",
       "2703                                     1.342530e+11  2.827940e+11   \n",
       "2704                                     1.342530e+11  2.827940e+11   \n",
       "\n",
       "      Total Liabilities  Retained Earnings  Total Equity  \n",
       "0          3.833000e+10      -2.282400e+10  3.955800e+10  \n",
       "1          3.836234e+10      -2.279677e+10  3.958384e+10  \n",
       "2          3.839469e+10      -2.276953e+10  3.960969e+10  \n",
       "3          3.842703e+10      -2.274230e+10  3.963553e+10  \n",
       "4          3.845938e+10      -2.271506e+10  3.966138e+10  \n",
       "...                 ...                ...           ...  \n",
       "2700       1.726850e+11       3.048400e+10  1.101090e+11  \n",
       "2701       1.726850e+11       3.048400e+10  1.101090e+11  \n",
       "2702       1.726850e+11       3.048400e+10  1.101090e+11  \n",
       "2703       1.726850e+11       3.048400e+10  1.101090e+11  \n",
       "2704       1.726850e+11       3.048400e+10  1.101090e+11  \n",
       "\n",
       "[2705 rows x 9 columns]"
      ]
     },
     "execution_count": 25,
     "metadata": {},
     "output_type": "execute_result"
    }
   ],
   "source": [
    "data"
   ]
  },
  {
   "cell_type": "code",
   "execution_count": 26,
   "metadata": {},
   "outputs": [],
   "source": [
    "data = data.set_index('Date')\n",
    "dim = len(data.columns)\n",
    "data['Target'] = (data['Low'] + data['High'])*0.5\n",
    "X = data.iloc[:, :-1]\n",
    "X = X.iloc[:-1]\n",
    "y = data.iloc[:, -1:]\n",
    "y = y.iloc[1:]"
   ]
  },
  {
   "cell_type": "code",
   "execution_count": 27,
   "metadata": {},
   "outputs": [],
   "source": [
    "mm = MinMaxScaler()\n",
    "ss = StandardScaler()\n",
    "\n",
    "X_ss = ss.fit_transform(X)\n",
    "y_mm = mm.fit_transform(y) \n",
    "\n",
    "\n",
    "X_train = X_ss[:2300, :]\n",
    "X_test = X_ss[2300:, :]\n",
    "\n",
    "y_train = y_mm[:2300, :]\n",
    "y_test = y_mm[2300:, :]\n",
    "\n",
    "\n",
    "X_train_tensors = Variable(torch.Tensor(X_train))\n",
    "X_test_tensors = Variable(torch.Tensor(X_test))\n",
    "\n",
    "y_train_tensors = Variable(torch.Tensor(y_train))\n",
    "y_test_tensors = Variable(torch.Tensor(y_test)) \n",
    "\n",
    "\n",
    "X_train_tensors_final = torch.reshape(X_train_tensors,   (X_train_tensors.shape[0], 1, X_train_tensors.shape[1]))\n",
    "\n",
    "X_test_tensors_final = torch.reshape(X_test_tensors,  (X_test_tensors.shape[0], 1, X_test_tensors.shape[1])) "
   ]
  },
  {
   "cell_type": "code",
   "execution_count": 28,
   "metadata": {},
   "outputs": [
    {
     "name": "stdout",
     "output_type": "stream",
     "text": [
      "Training Shape torch.Size([2300, 1, 8]) torch.Size([2300, 1])\n",
      "Testing Shape torch.Size([404, 1, 8]) torch.Size([404, 1])\n"
     ]
    }
   ],
   "source": [
    "print(\"Training Shape\", X_train_tensors_final.shape, y_train_tensors.shape)\n",
    "print(\"Testing Shape\", X_test_tensors_final.shape, y_test_tensors.shape) "
   ]
  },
  {
   "cell_type": "markdown",
   "metadata": {},
   "source": [
    "# Обучение 2"
   ]
  },
  {
   "cell_type": "code",
   "execution_count": 29,
   "metadata": {},
   "outputs": [],
   "source": [
    "num_epochs = 1000 #1000 epochs\n",
    "learning_rate = 0.001 #0.001 lr\n",
    "\n",
    "input_size = dim #number of features\n",
    "hidden_size = 16 #number of features in hidden state\n",
    "num_layers = 1 #number of stacked lstm layers\n",
    "linear_dim = 128 #dim of linear layers\n",
    "\n",
    "num_classes = 1 #number of output classes "
   ]
  },
  {
   "cell_type": "code",
   "execution_count": 30,
   "metadata": {},
   "outputs": [],
   "source": [
    "lstm1 = LSTM1(num_classes, input_size, hidden_size, num_layers, X_train_tensors_final.shape[1], linear_dim) #our lstm class \n",
    "lstm1\n",
    "criterion = torch.nn.MSELoss()    # mean-squared error for regression\n",
    "optimizer = torch.optim.Adam(lstm1.parameters(), lr=learning_rate) \n"
   ]
  },
  {
   "cell_type": "code",
   "execution_count": 31,
   "metadata": {},
   "outputs": [
    {
     "name": "stdout",
     "output_type": "stream",
     "text": [
      "Epoch: 0, loss: 0.02278\n",
      "Epoch: 100, loss: 0.00026\n",
      "Epoch: 200, loss: 0.00008\n",
      "Epoch: 300, loss: 0.00004\n",
      "Epoch: 400, loss: 0.00002\n",
      "Epoch: 500, loss: 0.00002\n",
      "Epoch: 600, loss: 0.00002\n",
      "Epoch: 700, loss: 0.00001\n",
      "Epoch: 800, loss: 0.00001\n",
      "Epoch: 900, loss: 0.00001\n"
     ]
    }
   ],
   "source": [
    "for epoch in range(num_epochs):\n",
    "    outputs = lstm1.forward(X_train_tensors_final) #forward pass\n",
    "    optimizer.zero_grad() #caluclate the gradient, manually setting to 0\n",
    " \n",
    "    # obtain the loss function\n",
    "    loss = criterion(outputs, y_train_tensors)\n",
    " \n",
    "    loss.backward() #calculates the loss of the loss function\n",
    " \n",
    "    optimizer.step() #improve from loss, i.e backprop\n",
    "    if epoch % 100 == 0:\n",
    "        print(\"Epoch: %d, loss: %1.5f\" % (epoch, loss.item())) \n",
    "\n"
   ]
  },
  {
   "cell_type": "code",
   "execution_count": 32,
   "metadata": {},
   "outputs": [],
   "source": [
    "df_X_ss = ss.transform(data.iloc[:, :-1]) #old transformers\n",
    "df_y_mm = mm.transform(data.iloc[:, -1:]) #old transformers\n",
    "\n",
    "df_X_ss = Variable(torch.Tensor(df_X_ss)) #converting to Tensors\n",
    "df_y_mm = Variable(torch.Tensor(df_y_mm))\n",
    "#reshaping the dataset\n",
    "df_X_ss = torch.reshape(df_X_ss, (df_X_ss.shape[0], 1, df_X_ss.shape[1])) \n"
   ]
  },
  {
   "cell_type": "code",
   "execution_count": 33,
   "metadata": {
    "scrolled": true
   },
   "outputs": [
    {
     "data": {
      "image/png": "[encoded data removed]",
      "text/plain": [
       "<Figure size 1440x432 with 1 Axes>"
      ]
     },
     "metadata": {
      "needs_background": "light"
     },
     "output_type": "display_data"
    }
   ],
   "source": [
    "train_predict = lstm1(df_X_ss)#forward pass\n",
    "data_predict = train_predict.data.numpy() #numpy conversion\n",
    "dataY_plot = df_y_mm.data.numpy()\n",
    "\n",
    "data_predict = mm.inverse_transform(data_predict) #reverse transformation\n",
    "dataY_plot = mm.inverse_transform(dataY_plot)\n",
    "plt.figure(figsize=(20,6)) #plotting\n",
    "plt.axvline(x=2300, c='r', linestyle='--') #size of the training set\n",
    "\n",
    "plt.plot(dataY_plot, label='Actuall Data') #actual plot\n",
    "plt.plot(data_predict, label='Predicted Data') #predicted plot\n",
    "plt.title('Time-Series Prediction')\n",
    "plt.legend()\n",
    "plt.show() \n"
   ]
  },
  {
   "cell_type": "markdown",
   "metadata": {},
   "source": [
    "# Подбор параметров 2"
   ]
  },
  {
   "cell_type": "code",
   "execution_count": 34,
   "metadata": {},
   "outputs": [
    {
     "name": "stdout",
     "output_type": "stream",
     "text": [
      "linear_dim = 64 | hidden_size = 2 | mse = 0.79002\n",
      "linear_dim = 64 | hidden_size = 4 | mse = 0.48563\n",
      "linear_dim = 64 | hidden_size = 8 | mse = 0.43943\n",
      "linear_dim = 64 | hidden_size = 12 | mse = 0.35830\n",
      "linear_dim = 64 | hidden_size = 16 | mse = 0.60960\n",
      "linear_dim = 128 | hidden_size = 2 | mse = 0.40210\n",
      "linear_dim = 128 | hidden_size = 4 | mse = 0.33303\n",
      "linear_dim = 128 | hidden_size = 8 | mse = 0.49406\n",
      "linear_dim = 128 | hidden_size = 12 | mse = 0.50573\n",
      "linear_dim = 128 | hidden_size = 16 | mse = 0.46507\n",
      "linear_dim = 256 | hidden_size = 2 | mse = 0.36429\n",
      "linear_dim = 256 | hidden_size = 4 | mse = 0.30046\n",
      "linear_dim = 256 | hidden_size = 8 | mse = 0.41437\n",
      "linear_dim = 256 | hidden_size = 12 | mse = 0.50007\n",
      "linear_dim = 256 | hidden_size = 16 | mse = 0.63282\n"
     ]
    }
   ],
   "source": [
    "df_X_ss = ss.transform(data.iloc[2300:-1, :-1]) #old transformers\n",
    "df_y_mm = mm.transform(data.iloc[2301:, -1:]) #old transformers\n",
    "\n",
    "\n",
    "df_X_ss = Variable(torch.Tensor(df_X_ss)) #converting to Tensors\n",
    "df_y_mm = Variable(torch.Tensor(df_y_mm))\n",
    "#reshaping the dataset\n",
    "df_X_ss = torch.reshape(df_X_ss, (df_X_ss.shape[0], 1, df_X_ss.shape[1])) \n",
    "\n",
    "\n",
    "results = []\n",
    "for ld in [64, 128, 256]:\n",
    "    for hs in [2, 4, 8, 12, 16]:\n",
    "        lstm1 = LSTM1(num_classes, input_size, hs, num_layers, X_train_tensors_final.shape[1], ld) #our lstm class\n",
    "        outputs = lstm1.forward(X_train_tensors_final) #forward pass\n",
    "        optimizer.zero_grad() #caluclate the gradient, manually setting to 0\n",
    "        for epoch in range(num_epochs):\n",
    "            outputs = lstm1.forward(X_train_tensors_final) #forward pass\n",
    "            optimizer.zero_grad() #caluclate the gradient, manually setting to 0\n",
    " \n",
    "            # obtain the loss function\n",
    "            loss = criterion(outputs, y_train_tensors)\n",
    " \n",
    "            loss.backward() #calculates the loss of the loss function\n",
    " \n",
    "            optimizer.step() #improve from loss, i.e backprop\n",
    "        \n",
    "        outputs = lstm1.forward(X_test_tensors_final)\n",
    "        loss = criterion(outputs, y_test_tensors)\n",
    "        mse = loss.item()\n",
    "        results.append([ld, hs, mse])\n",
    "        print(\"linear_dim = %d | hidden_size = %d | mse = %1.5f\" % (ld, hs, mse))\n",
    "        "
   ]
  },
  {
   "cell_type": "code",
   "execution_count": 35,
   "metadata": {},
   "outputs": [
    {
     "name": "stdout",
     "output_type": "stream",
     "text": [
      "     ld  hs       mse\n",
      "11  256   4  0.300464\n"
     ]
    }
   ],
   "source": [
    "res_df = pd.DataFrame(results, columns =['ld', 'hs', 'mse'])\n",
    "best = res_df[res_df.mse == res_df.mse.min()]\n",
    "print(best)\n",
    "best = best.to_numpy()"
   ]
  },
  {
   "cell_type": "code",
   "execution_count": 36,
   "metadata": {},
   "outputs": [],
   "source": [
    "lstm1 = LSTM1(num_classes, input_size, int(best[0][1]), num_layers, X_train_tensors_final.shape[1], int(best[0][0])) #our lstm class \n",
    "criterion = torch.nn.MSELoss()    # mean-squared error for regression\n",
    "optimizer = torch.optim.Adam(lstm1.parameters(), lr=learning_rate) \n",
    "\n"
   ]
  },
  {
   "cell_type": "code",
   "execution_count": 37,
   "metadata": {},
   "outputs": [
    {
     "name": "stdout",
     "output_type": "stream",
     "text": [
      "Epoch: 0, loss: 0.03611\n",
      "Epoch: 100, loss: 0.00035\n",
      "Epoch: 200, loss: 0.00016\n",
      "Epoch: 300, loss: 0.00011\n",
      "Epoch: 400, loss: 0.00008\n",
      "Epoch: 500, loss: 0.00008\n",
      "Epoch: 600, loss: 0.00007\n",
      "Epoch: 700, loss: 0.00007\n",
      "Epoch: 800, loss: 0.00007\n",
      "Epoch: 900, loss: 0.00007\n"
     ]
    }
   ],
   "source": [
    "for epoch in range(num_epochs):\n",
    "    outputs = lstm1.forward(X_train_tensors_final) #forward pass\n",
    "    optimizer.zero_grad() #caluclate the gradient, manually setting to 0\n",
    " \n",
    "    # obtain the loss function\n",
    "    loss = criterion(outputs, y_train_tensors)\n",
    " \n",
    "    loss.backward() #calculates the loss of the loss function\n",
    " \n",
    "    optimizer.step() #improve from loss, i.e backprop\n",
    "    if epoch % 100 == 0:\n",
    "        print(\"Epoch: %d, loss: %1.5f\" % (epoch, loss.item())) \n",
    "\n"
   ]
  },
  {
   "cell_type": "code",
   "execution_count": 38,
   "metadata": {},
   "outputs": [],
   "source": [
    "df_X_ss = ss.transform(data.iloc[:, :-1]) #old transformers\n",
    "df_y_mm = mm.transform(data.iloc[:, -1:]) #old transformers\n",
    "\n",
    "df_X_ss = Variable(torch.Tensor(df_X_ss)) #converting to Tensors\n",
    "df_y_mm = Variable(torch.Tensor(df_y_mm))\n",
    "#reshaping the dataset\n",
    "df_X_ss = torch.reshape(df_X_ss, (df_X_ss.shape[0], 1, df_X_ss.shape[1])) \n",
    "\n"
   ]
  },
  {
   "cell_type": "code",
   "execution_count": 39,
   "metadata": {},
   "outputs": [
    {
     "data": {
      "image/png": "[encoded data removed]",
      "text/plain": [
       "<Figure size 1440x432 with 1 Axes>"
      ]
     },
     "metadata": {
      "needs_background": "light"
     },
     "output_type": "display_data"
    }
   ],
   "source": [
    "train_predict = lstm1(df_X_ss)#forward pass\n",
    "data_predict = train_predict.data.numpy() #numpy conversion\n",
    "dataY_plot = df_y_mm.data.numpy()\n",
    "\n",
    "data_predict = mm.inverse_transform(data_predict) #reverse transformation\n",
    "dataY_plot = mm.inverse_transform(dataY_plot)\n",
    "plt.figure(figsize=(20,6)) #plotting\n",
    "plt.axvline(x=2300, c='r', linestyle='--') #size of the training set\n",
    "\n",
    "plt.plot(dataY_plot, label='Actuall Data') #actual plot\n",
    "plt.plot(data_predict, label='Predicted Data') #predicted plot\n",
    "plt.title('Time-Series Prediction')\n",
    "plt.legend()\n",
    "plt.show() "
   ]
  },
  {
   "cell_type": "markdown",
   "metadata": {},
   "source": [
    "# Обработка данных 3"
   ]
  },
  {
   "cell_type": "markdown",
   "metadata": {},
   "source": [
    "Попробуем теперь оставить только цены акции"
   ]
  },
  {
   "cell_type": "code",
   "execution_count": 40,
   "metadata": {},
   "outputs": [],
   "source": [
    "comp_balance = balance[balance['Ticker'] == 'MSFT'].drop(columns=['Ticker', 'SimFinId'])\n",
    "comp_balance = comp_balance.rename(columns={'Report Date' : 'Date'})\n",
    "comp_price = prices[prices['Ticker'] == 'MSFT'].drop(columns=['Ticker', 'SimFinId'])\n",
    "\n",
    "data = pd.merge(comp_price, comp_balance, on='Date', how='outer')\n",
    "data = data.dropna(subset=['Open'])\n",
    "dividend = data['Dividend']\n",
    "\n",
    "data = data.drop(columns=['Dividend', 'Currency', 'Fiscal Period', 'Publish Date', 'Restated Date'])\n",
    "#\n",
    "data = data.interpolate(method='linear', limit_direction='forward', axis=0)\n",
    "data = data.drop(columns=['Treasury Stock'])\n",
    "\n",
    "data = data.dropna()\n",
    "#Логично дивиденды заполнить нулями, так как их не было\n",
    "data['Dividend'] = dividend.fillna(0)\n",
    "data = data.reset_index()\n",
    "data = data.drop(columns=['index', 'Fiscal Year', 'Shares (Basic)', 'Shares (Diluted)', 'Volume'])\n",
    "data = data.drop(columns=['Cash, Cash Equivalents & Short Term Investments', 'Total Assets', 'Total Liabilities'])\n",
    "data = data.drop(columns=['Retained Earnings', 'Total Equity'])\n",
    "data = data.drop(columns=['Inventories', 'Share Capital & Additional Paid-In Capital', 'Payables & Accruals', 'Shares Outstanding', 'Accounts & Notes Receivable', 'Close'])\n",
    "data = data.drop(columns=['Property, Plant & Equipment, Net', 'Long Term Investments & Receivables', 'Other Long Term Assets', 'Total Noncurrent Assets', 'Total Current Assets'])\n",
    "data = data.drop(columns=['Total Noncurrent Liabilities', 'Total Current Liabilities', 'Total Liabilities & Equity', 'Short Term Debt', 'Long Term Debt', 'Dividend', 'Adj. Close'])\n",
    "data['Date'] = data['Date'].apply(lambda dt: datetime.datetime.strptime(dt, \"%Y-%m-%d\").strftime(\"%d.%m.%Y\"))"
   ]
  },
  {
   "cell_type": "code",
   "execution_count": 41,
   "metadata": {},
   "outputs": [
    {
     "data": {
      "text/html": [
       "<div>\n",
       "<style scoped>\n",
       "    .dataframe tbody tr th:only-of-type {\n",
       "        vertical-align: middle;\n",
       "    }\n",
       "\n",
       "    .dataframe tbody tr th {\n",
       "        vertical-align: top;\n",
       "    }\n",
       "\n",
       "    .dataframe thead th {\n",
       "        text-align: right;\n",
       "    }\n",
       "</style>\n",
       "<table border=\"1\" class=\"dataframe\">\n",
       "  <thead>\n",
       "    <tr style=\"text-align: right;\">\n",
       "      <th></th>\n",
       "      <th>Date</th>\n",
       "      <th>Open</th>\n",
       "      <th>Low</th>\n",
       "      <th>High</th>\n",
       "    </tr>\n",
       "  </thead>\n",
       "  <tbody>\n",
       "    <tr>\n",
       "      <th>0</th>\n",
       "      <td>30.06.2009</td>\n",
       "      <td>23.97</td>\n",
       "      <td>23.63</td>\n",
       "      <td>24.24</td>\n",
       "    </tr>\n",
       "    <tr>\n",
       "      <th>1</th>\n",
       "      <td>01.07.2009</td>\n",
       "      <td>24.05</td>\n",
       "      <td>23.96</td>\n",
       "      <td>24.30</td>\n",
       "    </tr>\n",
       "    <tr>\n",
       "      <th>2</th>\n",
       "      <td>02.07.2009</td>\n",
       "      <td>23.76</td>\n",
       "      <td>23.21</td>\n",
       "      <td>24.04</td>\n",
       "    </tr>\n",
       "    <tr>\n",
       "      <th>3</th>\n",
       "      <td>06.07.2009</td>\n",
       "      <td>23.21</td>\n",
       "      <td>22.87</td>\n",
       "      <td>23.28</td>\n",
       "    </tr>\n",
       "    <tr>\n",
       "      <th>4</th>\n",
       "      <td>07.07.2009</td>\n",
       "      <td>23.08</td>\n",
       "      <td>22.46</td>\n",
       "      <td>23.14</td>\n",
       "    </tr>\n",
       "    <tr>\n",
       "      <th>...</th>\n",
       "      <td>...</td>\n",
       "      <td>...</td>\n",
       "      <td>...</td>\n",
       "      <td>...</td>\n",
       "    </tr>\n",
       "    <tr>\n",
       "      <th>2700</th>\n",
       "      <td>23.03.2020</td>\n",
       "      <td>137.01</td>\n",
       "      <td>132.52</td>\n",
       "      <td>140.57</td>\n",
       "    </tr>\n",
       "    <tr>\n",
       "      <th>2701</th>\n",
       "      <td>24.03.2020</td>\n",
       "      <td>143.75</td>\n",
       "      <td>141.27</td>\n",
       "      <td>149.60</td>\n",
       "    </tr>\n",
       "    <tr>\n",
       "      <th>2702</th>\n",
       "      <td>25.03.2020</td>\n",
       "      <td>148.91</td>\n",
       "      <td>144.44</td>\n",
       "      <td>154.33</td>\n",
       "    </tr>\n",
       "    <tr>\n",
       "      <th>2703</th>\n",
       "      <td>26.03.2020</td>\n",
       "      <td>148.40</td>\n",
       "      <td>148.37</td>\n",
       "      <td>156.66</td>\n",
       "    </tr>\n",
       "    <tr>\n",
       "      <th>2704</th>\n",
       "      <td>27.03.2020</td>\n",
       "      <td>151.75</td>\n",
       "      <td>149.20</td>\n",
       "      <td>154.89</td>\n",
       "    </tr>\n",
       "  </tbody>\n",
       "</table>\n",
       "<p>2705 rows × 4 columns</p>\n",
       "</div>"
      ],
      "text/plain": [
       "            Date    Open     Low    High\n",
       "0     30.06.2009   23.97   23.63   24.24\n",
       "1     01.07.2009   24.05   23.96   24.30\n",
       "2     02.07.2009   23.76   23.21   24.04\n",
       "3     06.07.2009   23.21   22.87   23.28\n",
       "4     07.07.2009   23.08   22.46   23.14\n",
       "...          ...     ...     ...     ...\n",
       "2700  23.03.2020  137.01  132.52  140.57\n",
       "2701  24.03.2020  143.75  141.27  149.60\n",
       "2702  25.03.2020  148.91  144.44  154.33\n",
       "2703  26.03.2020  148.40  148.37  156.66\n",
       "2704  27.03.2020  151.75  149.20  154.89\n",
       "\n",
       "[2705 rows x 4 columns]"
      ]
     },
     "execution_count": 41,
     "metadata": {},
     "output_type": "execute_result"
    }
   ],
   "source": [
    "data"
   ]
  },
  {
   "cell_type": "code",
   "execution_count": 42,
   "metadata": {},
   "outputs": [],
   "source": [
    "data = data.set_index('Date')\n",
    "dim = len(data.columns)\n",
    "data['Target'] = (data['Low'] + data['High'])*0.5\n",
    "X = data.iloc[:, :-1]\n",
    "X = X.iloc[:-1]\n",
    "y = data.iloc[:, -1:]\n",
    "y = y.iloc[1:]"
   ]
  },
  {
   "cell_type": "code",
   "execution_count": 43,
   "metadata": {},
   "outputs": [],
   "source": [
    "mm = MinMaxScaler()\n",
    "ss = StandardScaler()\n",
    "\n",
    "X_ss = ss.fit_transform(X)\n",
    "y_mm = mm.fit_transform(y) \n",
    "\n",
    "\n",
    "X_train = X_ss[:2300, :]\n",
    "X_test = X_ss[2300:, :]\n",
    "\n",
    "y_train = y_mm[:2300, :]\n",
    "y_test = y_mm[2300:, :]\n",
    "\n",
    "\n",
    "X_train_tensors = Variable(torch.Tensor(X_train))\n",
    "X_test_tensors = Variable(torch.Tensor(X_test))\n",
    "\n",
    "y_train_tensors = Variable(torch.Tensor(y_train))\n",
    "y_test_tensors = Variable(torch.Tensor(y_test)) \n",
    "\n",
    "\n",
    "X_train_tensors_final = torch.reshape(X_train_tensors,   (X_train_tensors.shape[0], 1, X_train_tensors.shape[1]))\n",
    "\n",
    "X_test_tensors_final = torch.reshape(X_test_tensors,  (X_test_tensors.shape[0], 1, X_test_tensors.shape[1])) "
   ]
  },
  {
   "cell_type": "code",
   "execution_count": 44,
   "metadata": {},
   "outputs": [
    {
     "name": "stdout",
     "output_type": "stream",
     "text": [
      "Training Shape torch.Size([2300, 1, 3]) torch.Size([2300, 1])\n",
      "Testing Shape torch.Size([404, 1, 3]) torch.Size([404, 1])\n"
     ]
    }
   ],
   "source": [
    "print(\"Training Shape\", X_train_tensors_final.shape, y_train_tensors.shape)\n",
    "print(\"Testing Shape\", X_test_tensors_final.shape, y_test_tensors.shape) "
   ]
  },
  {
   "cell_type": "markdown",
   "metadata": {},
   "source": [
    "# Обучение 3"
   ]
  },
  {
   "cell_type": "code",
   "execution_count": 45,
   "metadata": {},
   "outputs": [],
   "source": [
    "num_epochs = 1000 #1000 epochs\n",
    "learning_rate = 0.001 #0.001 lr\n",
    "\n",
    "input_size = dim #number of features\n",
    "hidden_size = 8 #number of features in hidden state\n",
    "num_layers = 1 #number of stacked lstm layers\n",
    "linear_dim = 128 #dim of linear layers\n",
    "\n",
    "num_classes = 1 #number of output classes "
   ]
  },
  {
   "cell_type": "code",
   "execution_count": 46,
   "metadata": {},
   "outputs": [],
   "source": [
    "lstm1 = LSTM1(num_classes, input_size, hidden_size, num_layers, X_train_tensors_final.shape[1], linear_dim) #our lstm class \n",
    "lstm1\n",
    "criterion = torch.nn.MSELoss()    # mean-squared error for regression\n",
    "optimizer = torch.optim.Adam(lstm1.parameters(), lr=learning_rate) \n"
   ]
  },
  {
   "cell_type": "code",
   "execution_count": 47,
   "metadata": {},
   "outputs": [
    {
     "name": "stdout",
     "output_type": "stream",
     "text": [
      "Epoch: 0, loss: 0.14455\n",
      "Epoch: 100, loss: 0.00071\n",
      "Epoch: 200, loss: 0.00005\n",
      "Epoch: 300, loss: 0.00003\n",
      "Epoch: 400, loss: 0.00002\n",
      "Epoch: 500, loss: 0.00002\n",
      "Epoch: 600, loss: 0.00002\n",
      "Epoch: 700, loss: 0.00001\n",
      "Epoch: 800, loss: 0.00001\n",
      "Epoch: 900, loss: 0.00001\n"
     ]
    }
   ],
   "source": [
    "for epoch in range(num_epochs):\n",
    "    outputs = lstm1.forward(X_train_tensors_final) #forward pass\n",
    "    optimizer.zero_grad() #caluclate the gradient, manually setting to 0\n",
    " \n",
    "    # obtain the loss function\n",
    "    loss = criterion(outputs, y_train_tensors)\n",
    " \n",
    "    loss.backward() #calculates the loss of the loss function\n",
    " \n",
    "    optimizer.step() #improve from loss, i.e backprop\n",
    "    if epoch % 100 == 0:\n",
    "        print(\"Epoch: %d, loss: %1.5f\" % (epoch, loss.item())) \n"
   ]
  },
  {
   "cell_type": "code",
   "execution_count": 48,
   "metadata": {},
   "outputs": [],
   "source": [
    "df_X_ss = ss.transform(data.iloc[:, :-1]) #old transformers\n",
    "df_y_mm = mm.transform(data.iloc[:, -1:]) #old transformers\n",
    "\n",
    "df_X_ss = Variable(torch.Tensor(df_X_ss)) #converting to Tensors\n",
    "df_y_mm = Variable(torch.Tensor(df_y_mm))\n",
    "#reshaping the dataset\n",
    "df_X_ss = torch.reshape(df_X_ss, (df_X_ss.shape[0], 1, df_X_ss.shape[1])) \n",
    "\n"
   ]
  },
  {
   "cell_type": "code",
   "execution_count": 49,
   "metadata": {},
   "outputs": [
    {
     "data": {
      "image/png": "[encoded data removed]",
      "text/plain": [
       "<Figure size 1440x432 with 1 Axes>"
      ]
     },
     "metadata": {
      "needs_background": "light"
     },
     "output_type": "display_data"
    }
   ],
   "source": [
    "train_predict = lstm1(df_X_ss)#forward pass\n",
    "data_predict = train_predict.data.numpy() #numpy conversion\n",
    "dataY_plot = df_y_mm.data.numpy()\n",
    "\n",
    "data_predict = mm.inverse_transform(data_predict) #reverse transformation\n",
    "dataY_plot = mm.inverse_transform(dataY_plot)\n",
    "plt.figure(figsize=(20,6)) #plotting\n",
    "plt.axvline(x=2300, c='r', linestyle='--') #size of the training set\n",
    "\n",
    "plt.plot(dataY_plot, label='Actuall Data') #actual plot\n",
    "plt.plot(data_predict, label='Predicted Data') #predicted plot\n",
    "plt.title('Time-Series Prediction')\n",
    "plt.legend()\n",
    "plt.show() "
   ]
  },
  {
   "cell_type": "markdown",
   "metadata": {},
   "source": [
    "# Подбор параметров 3"
   ]
  },
  {
   "cell_type": "code",
   "execution_count": 50,
   "metadata": {},
   "outputs": [
    {
     "name": "stdout",
     "output_type": "stream",
     "text": [
      "linear_dim = 64 | hidden_size = 2 | mse = 0.59675\n",
      "linear_dim = 64 | hidden_size = 4 | mse = 0.50844\n",
      "linear_dim = 64 | hidden_size = 8 | mse = 0.52988\n",
      "linear_dim = 64 | hidden_size = 12 | mse = 0.21567\n",
      "linear_dim = 64 | hidden_size = 16 | mse = 0.42752\n",
      "linear_dim = 128 | hidden_size = 2 | mse = 0.27504\n",
      "linear_dim = 128 | hidden_size = 4 | mse = 0.19119\n",
      "linear_dim = 128 | hidden_size = 8 | mse = 0.52868\n",
      "linear_dim = 128 | hidden_size = 12 | mse = 0.40791\n",
      "linear_dim = 128 | hidden_size = 16 | mse = 0.39823\n",
      "linear_dim = 256 | hidden_size = 2 | mse = 0.63253\n",
      "linear_dim = 256 | hidden_size = 4 | mse = 0.81856\n",
      "linear_dim = 256 | hidden_size = 8 | mse = 0.48608\n",
      "linear_dim = 256 | hidden_size = 12 | mse = 0.25480\n",
      "linear_dim = 256 | hidden_size = 16 | mse = 0.53666\n"
     ]
    }
   ],
   "source": [
    "df_X_ss = ss.transform(data.iloc[2300:-1, :-1]) #old transformers\n",
    "df_y_mm = mm.transform(data.iloc[2301:, -1:]) #old transformers\n",
    "\n",
    "\n",
    "df_X_ss = Variable(torch.Tensor(df_X_ss)) #converting to Tensors\n",
    "df_y_mm = Variable(torch.Tensor(df_y_mm))\n",
    "#reshaping the dataset\n",
    "df_X_ss = torch.reshape(df_X_ss, (df_X_ss.shape[0], 1, df_X_ss.shape[1])) \n",
    "\n",
    "\n",
    "results = []\n",
    "for ld in [64, 128, 256]:\n",
    "    for hs in [2, 4, 8, 12, 16]:\n",
    "        lstm1 = LSTM1(num_classes, input_size, hs, num_layers, X_train_tensors_final.shape[1], ld) #our lstm class\n",
    "        outputs = lstm1.forward(X_train_tensors_final) #forward pass\n",
    "        optimizer.zero_grad() #caluclate the gradient, manually setting to 0\n",
    "        for epoch in range(num_epochs):\n",
    "            outputs = lstm1.forward(X_train_tensors_final) #forward pass\n",
    "            optimizer.zero_grad() #caluclate the gradient, manually setting to 0\n",
    " \n",
    "            # obtain the loss function\n",
    "            loss = criterion(outputs, y_train_tensors)\n",
    " \n",
    "            loss.backward() #calculates the loss of the loss function\n",
    " \n",
    "            optimizer.step() #improve from loss, i.e backprop\n",
    "     \n",
    "        outputs = lstm1.forward(X_test_tensors_final)\n",
    "        loss = criterion(outputs, y_test_tensors)\n",
    "        mse = loss.item()\n",
    "        results.append([ld, hs, mse])\n",
    "        print(\"linear_dim = %d | hidden_size = %d | mse = %1.5f\" % (ld, hs, mse))"
   ]
  },
  {
   "cell_type": "code",
   "execution_count": 51,
   "metadata": {},
   "outputs": [
    {
     "name": "stdout",
     "output_type": "stream",
     "text": [
      "    ld  hs     loss\n",
      "6  128   4  0.19119\n"
     ]
    }
   ],
   "source": [
    "res_df = pd.DataFrame(results, columns =['ld', 'hs', 'loss'])\n",
    "best = res_df[res_df.loss == res_df.loss.min()]\n",
    "print(best)\n",
    "best = best.to_numpy()"
   ]
  },
  {
   "cell_type": "code",
   "execution_count": 52,
   "metadata": {},
   "outputs": [],
   "source": [
    "lstm1 = LSTM1(num_classes, input_size, int(best[0][1]), num_layers, X_train_tensors_final.shape[1], int(best[0][0])) #our lstm class \n",
    "criterion = torch.nn.MSELoss()    # mean-squared error for regression\n",
    "optimizer = torch.optim.Adam(lstm1.parameters(), lr=learning_rate) \n"
   ]
  },
  {
   "cell_type": "code",
   "execution_count": 53,
   "metadata": {},
   "outputs": [
    {
     "name": "stdout",
     "output_type": "stream",
     "text": [
      "Epoch: 0, loss: 0.06639\n",
      "Epoch: 100, loss: 0.00017\n",
      "Epoch: 200, loss: 0.00004\n",
      "Epoch: 300, loss: 0.00002\n",
      "Epoch: 400, loss: 0.00002\n",
      "Epoch: 500, loss: 0.00001\n",
      "Epoch: 600, loss: 0.00001\n",
      "Epoch: 700, loss: 0.00001\n",
      "Epoch: 800, loss: 0.00001\n",
      "Epoch: 900, loss: 0.00001\n"
     ]
    }
   ],
   "source": [
    "for epoch in range(num_epochs):\n",
    "    outputs = lstm1.forward(X_train_tensors_final) #forward pass\n",
    "    optimizer.zero_grad() #caluclate the gradient, manually setting to 0\n",
    " \n",
    "    # obtain the loss function\n",
    "    loss = criterion(outputs, y_train_tensors)\n",
    " \n",
    "    loss.backward() #calculates the loss of the loss function\n",
    " \n",
    "    optimizer.step() #improve from loss, i.e backprop\n",
    "    if epoch % 100 == 0:\n",
    "        print(\"Epoch: %d, loss: %1.5f\" % (epoch, loss.item()))\n"
   ]
  },
  {
   "cell_type": "code",
   "execution_count": 54,
   "metadata": {},
   "outputs": [],
   "source": [
    "df_X_ss = ss.transform(data.iloc[:, :-1]) #old transformers\n",
    "df_y_mm = mm.transform(data.iloc[:, -1:]) #old transformers\n",
    "\n",
    "df_X_ss = Variable(torch.Tensor(df_X_ss)) #converting to Tensors\n",
    "df_y_mm = Variable(torch.Tensor(df_y_mm))\n",
    "#reshaping the dataset\n",
    "df_X_ss = torch.reshape(df_X_ss, (df_X_ss.shape[0], 1, df_X_ss.shape[1])) \n"
   ]
  },
  {
   "cell_type": "code",
   "execution_count": 55,
   "metadata": {},
   "outputs": [
    {
     "data": {
      "image/png": "[encoded data removed]",
      "text/plain": [
       "<Figure size 1440x432 with 1 Axes>"
      ]
     },
     "metadata": {
      "needs_background": "light"
     },
     "output_type": "display_data"
    }
   ],
   "source": [
    "train_predict = lstm1(df_X_ss)#forward pass\n",
    "data_predict = train_predict.data.numpy() #numpy conversion\n",
    "dataY_plot = df_y_mm.data.numpy()\n",
    "\n",
    "data_predict = mm.inverse_transform(data_predict) #reverse transformation\n",
    "dataY_plot = mm.inverse_transform(dataY_plot)\n",
    "plt.figure(figsize=(20,6)) #plotting\n",
    "plt.axvline(x=2300, c='r', linestyle='--') #size of the training set\n",
    "\n",
    "plt.plot(dataY_plot, label='Actuall Data') #actual plot\n",
    "plt.plot(data_predict, label='Predicted Data') #predicted plot\n",
    "plt.title('Time-Series Prediction')\n",
    "plt.legend()\n",
    "plt.show() "
   ]
  },
  {
   "cell_type": "code",
   "execution_count": null,
   "metadata": {},
   "outputs": [],
   "source": []
  }
 ],
 "metadata": {
  "kernelspec": {
   "display_name": "Python 3",
   "language": "python",
   "name": "python3"
  },
  "language_info": {
   "codemirror_mode": {
    "name": "ipython",
    "version": 3
   },
   "file_extension": ".py",
   "mimetype": "text/x-python",
   "name": "python",
   "nbconvert_exporter": "python",
   "pygments_lexer": "ipython3",
   "version": "3.7.6"
  }
 },
 "nbformat": 4,
 "nbformat_minor": 4
}
